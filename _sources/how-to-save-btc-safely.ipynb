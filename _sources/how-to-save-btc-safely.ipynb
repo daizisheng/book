{
 "cells": [
  {
   "cell_type": "markdown",
   "metadata": {},
   "source": [
    "# BIP0039 生成确定性密钥的助记码\n",
    "\n",
    "<https://en.bitcoin.it/wiki/BIP_0039>\n",
    "\n",
    "**BTC私钥** 实际上就是一个32字节的随机数组，而 **公钥** 是通过将椭圆曲线的 **生成元点** 自加而得到，自加的次数就是这个私钥 ，此时私钥被当作一个大整数。而 **BTC地址** 则是通过把公钥哈希而得到。程序逻辑如下："
   ]
  },
  {
   "cell_type": "code",
   "execution_count": 2,
   "metadata": {},
   "outputs": [
    {
     "name": "stdout",
     "output_type": "stream",
     "text": [
      "private_key: 0x18e14a7b6a307f426a94f8114701e7c8e774e7f9a47e2c2035db29a206321725\n"
     ]
    }
   ],
   "source": [
    "import random\n",
    "\n",
    "# 随机生成一个私钥\n",
    "private_key = random.randint(0, 2**256 - 1)\n",
    "\n",
    "# 为了方便，我们直接使用一个固定的私钥\n",
    "private_key = 0x18e14a7b6a307f426a94f8114701e7c8e774e7f9a47e2c2035db29a206321725\n",
    "print(f\"private_key: 0x{private_key:064x}\")"
   ]
  },
  {
   "cell_type": "code",
   "execution_count": 3,
   "metadata": {},
   "outputs": [
    {
     "name": "stdout",
     "output_type": "stream",
     "text": [
      "pub_key: 0x50863ad64a87ae8a2fe83c1af1a8403cb53f53e486d8511dad8a04887e5b2352, 0x2cd470243453a299fa9e77237716103abc11a1df38855ed6f2ee187e9c582ba6\n",
      "compressed_pub_key: 0x0250863ad64a87ae8a2fe83c1af1a8403cb53f53e486d8511dad8a04887e5b2352\n"
     ]
    }
   ],
   "source": [
    "# BTC所选择的椭圆曲线是secp256k1, 其参数如下\n",
    "p = 0xFFFFFFFFFFFFFFFFFFFFFFFFFFFFFFFFFFFFFFFFFFFFFFFFFFFFFFFEFFFFFC2F\n",
    "a = 0\n",
    "b = 7\n",
    "n = 0xFFFFFFFFFFFFFFFFFFFFFFFFFFFFFFFEBAAEDCE6AF48A03BBFD25E8CD0364141\n",
    "Gx = 0x79BE667EF9DCBBAC55A06295CE870B07029BFCDB2DCE28D959F2815B16F81798\n",
    "Gy = 0x483ADA7726A3C4655DA4FBFC0E1108A8FD17B448A68554199C47D08FFB10D4B8\n",
    "\n",
    "# 椭圆曲线的方程是 y^2 = x^3 + ax + b\n",
    "\n",
    "# 椭圆曲线上的加法如下，其中 None 表示无穷远点，即加法的单位元，即 0，p1和p2是椭圆曲线上的点\n",
    "def secp256k1_add(p1, p2):\n",
    "    if p1 is None:\n",
    "        return p2\n",
    "    if p2 is None:\n",
    "        return p1\n",
    "    if p1[0] == p2[0] and p1[1] != p2[1]:\n",
    "        # 两个点互为相反数，即相加为0\n",
    "        assert (p1[1] + p2[1] % p) == 0\n",
    "        return None\n",
    "    # s是斜率\n",
    "    if p1[0] == p2[0]:\n",
    "        s = (3 * p1[0] * p1[0] + a) * pow(2 * p1[1], -1, p)\n",
    "    else:\n",
    "        s = (p2[1] - p1[1]) * pow(p2[0] - p1[0], -1, p)\n",
    "    x = (s * s - p1[0] - p2[0]) % p\n",
    "    y = ( - (s * (x - p1[0]) + p1[1]) ) % p\n",
    "    return (x, y)\n",
    "\n",
    "# 私钥 -> 公钥 (倍点算法)\n",
    "def priv_key_to_pub_key(priv_key):\n",
    "    # 生成公钥\n",
    "    pub_key = None\n",
    "    base = (Gx, Gy)\n",
    "    for i in range(256):\n",
    "        if priv_key & (1 << i):\n",
    "            pub_key = secp256k1_add(pub_key, base)\n",
    "        base = secp256k1_add(base, base)\n",
    "    return pub_key\n",
    "\n",
    "# 生成公钥\n",
    "pub_key = priv_key_to_pub_key(private_key)\n",
    "print(f\"pub_key: 0x{pub_key[0]:064x}, 0x{pub_key[1]:064x}\")\n",
    "\n",
    "# 压缩形式的公钥\n",
    "if pub_key[1] & 1:\n",
    "    compressed_pub_key = 0x03\n",
    "else:\n",
    "    compressed_pub_key = 0x02\n",
    "compressed_pub_key = compressed_pub_key << 256 | pub_key[0]\n",
    "print(f\"compressed_pub_key: 0x{compressed_pub_key:066x}\")\n"
   ]
  },
  {
   "cell_type": "code",
   "execution_count": 14,
   "metadata": {},
   "outputs": [
    {
     "name": "stdout",
     "output_type": "stream",
     "text": [
      "sha256ed_pub_key: 0x0b7c28c9b7290c98d7438e70b3d3f7c848fbd7d1dc194ff83f4f7cc9b1378e98\n",
      "ripemd160ed_pub_key: 0xf54a5851e9372b87810a8e60cdd2e7cfd80b6e31\n",
      "ripemd160_pub_key_with_version: 0x00f54a5851e9372b87810a8e60cdd2e7cfd80b6e31\n",
      "sha256ed_ripemd160_pub_key_with_version: 0xad3c854da227c7e99c4abfad4ea41d71311160df2e415e713318c70d67c6b41c\n",
      "sha256ed_twice_ripemd160_pub_key_with_version: 0xc7f18fe8fcbed6396741e58ad259b5cb16b7fd7f041904147ba1dcffabf747fd\n",
      "checksum: 0xc7f18fe8\n",
      "address: 0x00f54a5851e9372b87810a8e60cdd2e7cfd80b6e31c7f18fe8\n"
     ]
    },
    {
     "ename": "ModuleNotFoundError",
     "evalue": "No module named 'base58'",
     "output_type": "error",
     "traceback": [
      "\u001b[0;31m---------------------------------------------------------------------------\u001b[0m",
      "\u001b[0;31mModuleNotFoundError\u001b[0m                       Traceback (most recent call last)",
      "Cell \u001b[0;32mIn[14], line 28\u001b[0m\n\u001b[1;32m     25\u001b[0m \u001b[38;5;28mprint\u001b[39m(\u001b[38;5;124mf\u001b[39m\u001b[38;5;124m\"\u001b[39m\u001b[38;5;124maddress: 0x\u001b[39m\u001b[38;5;132;01m{\u001b[39;00m\u001b[38;5;28mint\u001b[39m\u001b[38;5;241m.\u001b[39mfrom_bytes(address,\u001b[38;5;250m \u001b[39m\u001b[38;5;124m'\u001b[39m\u001b[38;5;124mbig\u001b[39m\u001b[38;5;124m'\u001b[39m)\u001b[38;5;132;01m:\u001b[39;00m\u001b[38;5;124m050x\u001b[39m\u001b[38;5;132;01m}\u001b[39;00m\u001b[38;5;124m\"\u001b[39m)\n\u001b[1;32m     27\u001b[0m \u001b[38;5;66;03m# base58编码\u001b[39;00m\n\u001b[0;32m---> 28\u001b[0m \u001b[38;5;28;01mimport\u001b[39;00m \u001b[38;5;21;01mbase58\u001b[39;00m\n\u001b[1;32m     29\u001b[0m address \u001b[38;5;241m=\u001b[39m base58\u001b[38;5;241m.\u001b[39mb58encode(address)\n\u001b[1;32m     30\u001b[0m \u001b[38;5;28mprint\u001b[39m(\u001b[38;5;124mf\u001b[39m\u001b[38;5;124m\"\u001b[39m\u001b[38;5;124mbase58 address: \u001b[39m\u001b[38;5;132;01m{\u001b[39;00maddress\u001b[38;5;241m.\u001b[39mdecode(\u001b[38;5;124m'\u001b[39m\u001b[38;5;124mutf-8\u001b[39m\u001b[38;5;124m'\u001b[39m)\u001b[38;5;132;01m}\u001b[39;00m\u001b[38;5;124m\"\u001b[39m)\n",
      "\u001b[0;31mModuleNotFoundError\u001b[0m: No module named 'base58'"
     ]
    }
   ],
   "source": [
    "import hashlib\n",
    "\n",
    "# 生成地址\n",
    "hashed_pub_key = hashlib.sha256(compressed_pub_key.to_bytes(33, 'big')).digest()\n",
    "print(f\"sha256ed_pub_key: 0x{int.from_bytes(hashed_pub_key, 'big'):064x}\")\n",
    "\n",
    "ripemd160_hasher = hashlib.new('ripemd160')\n",
    "ripemd160_hasher.update(hashed_pub_key)\n",
    "ripemd160_pub_key = ripemd160_hasher.digest()\n",
    "print(f\"ripemd160ed_pub_key: 0x{int.from_bytes(ripemd160_pub_key, 'big'):040x}\")\n",
    "\n",
    "ripemd160_pub_key_with_version = int.from_bytes(ripemd160_pub_key, 'big').to_bytes(21, 'big') # 添加版本号\n",
    "print(f\"ripemd160_pub_key_with_version: 0x{int.from_bytes(ripemd160_pub_key_with_version, 'big'):042x}\")\n",
    "\n",
    "hashed_ripemd160_pub_key_with_version = hashlib.sha256(ripemd160_pub_key_with_version).digest()\n",
    "print(f\"sha256ed_ripemd160_pub_key_with_version: 0x{int.from_bytes(hashed_ripemd160_pub_key_with_version, 'big'):064x}\")\n",
    "\n",
    "hashed_twice_ripemd160_pub_key_with_version = hashlib.sha256(hashed_ripemd160_pub_key_with_version).digest()\n",
    "print(f\"sha256ed_twice_ripemd160_pub_key_with_version: 0x{int.from_bytes(hashed_twice_ripemd160_pub_key_with_version, 'big'):064x}\")\n",
    "\n",
    "checksum = hashed_twice_ripemd160_pub_key_with_version[:4]\n",
    "print(f\"checksum: 0x{int.from_bytes(checksum, 'big'):08x}\")\n",
    "\n",
    "address = ripemd160_pub_key_with_version + checksum\n",
    "print(f\"address: 0x{int.from_bytes(address, 'big'):050x}\")\n",
    "\n",
    "# base58编码\n",
    "import base58\n",
    "address = base58.b58encode(address)\n",
    "print(f\"base58 address: {address.decode('utf-8')}\")"
   ]
  }
 ],
 "metadata": {
  "kernelspec": {
   "display_name": "Python 3",
   "language": "python",
   "name": "python3"
  },
  "language_info": {
   "codemirror_mode": {
    "name": "ipython",
    "version": 3
   },
   "file_extension": ".py",
   "mimetype": "text/x-python",
   "name": "python",
   "nbconvert_exporter": "python",
   "pygments_lexer": "ipython3",
   "version": "3.9.6"
  }
 },
 "nbformat": 4,
 "nbformat_minor": 2
}
