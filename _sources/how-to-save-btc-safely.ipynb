{
 "cells": [
  {
   "cell_type": "markdown",
   "metadata": {},
   "source": [
    "# BIP0039 生成确定性密钥的助记码\n",
    "\n",
    "<https://en.bitcoin.it/wiki/BIP_0039>\n",
    "\n",
    "**BTC私钥** 实际上就是一个32字节的随机数组，而 **公钥** 是通过将椭圆曲线的 **生成元点** 自加而得到，自加的次数就是这个私钥 ，此时私钥被当作一个大整数。而 **BTC地址** 则是通过把公钥哈希而得到。程序逻辑如下："
   ]
  },
  {
   "cell_type": "code",
   "execution_count": 13,
   "metadata": {},
   "outputs": [
    {
     "name": "stdout",
     "output_type": "stream",
     "text": [
      "private_key: 0x854a965708ceac392904cdefcf84b683a749f9c5470b9805d2d6b8777dc59a3a\n"
     ]
    }
   ],
   "source": [
    "import random\n",
    "\n",
    "# 固定随机种子，免得每次跑的结果不一样\n",
    "random.seed(10)\n",
    "\n",
    "# 随机生成一个私钥\n",
    "private_key = random.randint(0, 2**256 - 1)\n",
    "print(f\"private_key: 0x{private_key:064x}\")"
   ]
  },
  {
   "cell_type": "code",
   "execution_count": 20,
   "metadata": {},
   "outputs": [
    {
     "name": "stdout",
     "output_type": "stream",
     "text": [
      "pub_key: 0x34ff3be4033f7a06696c3d09f7d1671cbcf55cd700535655647077456769a24e, 0x5d9d11623a236c553f6619d89832098c55df16c3e8f8b6818491067a73cc2f1a\n"
     ]
    }
   ],
   "source": [
    "# BTC所选择的椭圆曲线是secp256k1, 其参数如下\n",
    "p = 0xFFFFFFFFFFFFFFFFFFFFFFFFFFFFFFFFFFFFFFFFFFFFFFFFFFFFFFFEFFFFFC2F\n",
    "a = 0\n",
    "b = 7\n",
    "n = 0xFFFFFFFFFFFFFFFFFFFFFFFFFFFFFFFEBAAEDCE6AF48A03BBFD25E8CD0364141\n",
    "Gx = 0x79BE667EF9DCBBAC55A06295CE870B07029BFCDB2DCE28D959F2815B16F81798\n",
    "Gy = 0x483ADA7726A3C4655DA4FBFC0E1108A8FD17B448A68554199C47D08FFB10D4B8\n",
    "\n",
    "# 椭圆曲线的方程是 y^2 = x^3 + ax + b\n",
    "\n",
    "# 椭圆曲线上的加法如下，其中 None 表示无穷远点，即加法的单位元，即 0，p1和p2是椭圆曲线上的点\n",
    "def secp256k1_add(p1, p2):\n",
    "    if p1 is None:\n",
    "        return p2\n",
    "    if p2 is None:\n",
    "        return p1\n",
    "    if p1[0] == p2[0] and p1[1] != p2[1]:\n",
    "        # 两个点互为相反数，即相加为0\n",
    "        assert (p1[1] + p2[1] % p) == 0\n",
    "        return None\n",
    "    # s是斜率\n",
    "    if p1[0] == p2[0]:\n",
    "        s = (3 * p1[0] * p1[0] + a) * pow(2 * p1[1], -1, p)\n",
    "    else:\n",
    "        s = (p2[1] - p1[1]) * pow(p2[0] - p1[0], -1, p)\n",
    "    x = (s * s - p1[0] - p2[0]) % p\n",
    "    y = ( - (s * (x - p1[0]) + p1[1]) ) % p\n",
    "    return (x, y)\n",
    "\n",
    "# 私钥 -> 公钥 (倍点算法)\n",
    "def priv_key_to_pub_key(priv_key):\n",
    "    # 生成公钥\n",
    "    pub_key = None\n",
    "    for i in range(256):\n",
    "        if priv_key & (1 << i):\n",
    "            if pub_key is None:\n",
    "                pub_key = (Gx, Gy)\n",
    "            else:\n",
    "                pub_key = secp256k1_add(pub_key, (Gx, Gy))\n",
    "    return pub_key\n",
    "\n",
    "# 生成公钥\n",
    "pub_key = priv_key_to_pub_key(private_key)\n",
    "print(f\"pub_key: 0x{pub_key[0]:064x}, 0x{pub_key[1]:064x}\")"
   ]
  }
 ],
 "metadata": {
  "kernelspec": {
   "display_name": "Python 3",
   "language": "python",
   "name": "python3"
  },
  "language_info": {
   "codemirror_mode": {
    "name": "ipython",
    "version": 3
   },
   "file_extension": ".py",
   "mimetype": "text/x-python",
   "name": "python",
   "nbconvert_exporter": "python",
   "pygments_lexer": "ipython3",
   "version": "3.9.6"
  }
 },
 "nbformat": 4,
 "nbformat_minor": 2
}
