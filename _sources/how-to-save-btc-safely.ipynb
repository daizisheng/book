{
 "cells": [
  {
   "cell_type": "markdown",
   "metadata": {},
   "source": [
    "# BIP0039 生成确定性密钥的助记码\n",
    "\n",
    "<https://en.bitcoin.it/wiki/BIP_0039>\n",
    "\n",
    "**BTC私钥** 实际上就是一个32字节的随机数，而 **公钥** 是通过将椭圆曲线的 **生成元点** 自加而得到，自加的次数就是这个私钥 ，此时私钥被当作一个大整数。而 **BTC地址** 则是通过把公钥哈希而得到。"
   ]
  },
  {
   "cell_type": "code",
   "execution_count": 11,
   "metadata": {},
   "outputs": [
    {
     "name": "stdout",
     "output_type": "stream",
     "text": [
      "0x854a965708ceac392904cdefcf84b683a749f9c5470b9805d2d6b8777dc59a3a\n"
     ]
    }
   ],
   "source": [
    "import random\n",
    "random.seed(10)\n",
    "private_key = random.randint(0, 2**256 - 1)\n",
    "private_key_hex = f\"0x{private_key:064x}\"\n",
    "print(private_key_hex)\n",
    "\n"
   ]
  }
 ],
 "metadata": {
  "kernelspec": {
   "display_name": "Python 3",
   "language": "python",
   "name": "python3"
  },
  "language_info": {
   "codemirror_mode": {
    "name": "ipython",
    "version": 3
   },
   "file_extension": ".py",
   "mimetype": "text/x-python",
   "name": "python",
   "nbconvert_exporter": "python",
   "pygments_lexer": "ipython3",
   "version": "3.9.6"
  }
 },
 "nbformat": 4,
 "nbformat_minor": 2
}
