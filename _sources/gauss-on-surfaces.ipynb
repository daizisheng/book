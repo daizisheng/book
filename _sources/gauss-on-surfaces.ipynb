{
 "cells": [
  {
   "cell_type": "markdown",
   "metadata": {},
   "source": [
    "# Gauss on surfaces\n",
    "\n",
    "## 1. 辅助球面\n",
    "\n",
    "辅助球面是一个单位球面，球面上的点对应了某个方向。球面上有三个特殊点分别对应了三个坐标轴的方向。这三个点或者方向分别命名为 (1)、(2)、(3)。这三个方向是正交的，也就是两两垂直的。\n",
    "\n",
    "$$\n",
    "x = y^2\n",
    "$$"
   ]
  }
 ],
 "metadata": {
  "kernelspec": {
   "display_name": "base",
   "language": "python",
   "name": "python3"
  },
  "language_info": {
   "codemirror_mode": {
    "name": "ipython",
    "version": 3
   },
   "file_extension": ".py",
   "mimetype": "text/x-python",
   "name": "python",
   "nbconvert_exporter": "python",
   "pygments_lexer": "ipython3",
   "version": "3.11.5"
  }
 },
 "nbformat": 4,
 "nbformat_minor": 2
}
