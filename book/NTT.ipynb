{
 "cells": [
  {
   "cell_type": "markdown",
   "metadata": {},
   "source": [
    "# NTT revised\n",
    "\n",
    "## 问题\n",
    "\n",
    "$N = 2^{26}$ 个元素的 list 进行 NTT，元素本身是一个 256bits 的大数。\n",
    "\n",
    "GPU 计算。\n",
    "\n",
    "经常8-9个同时计算。\n",
    "\n",
    "想分开在各个GPU里面去局部计算。\n",
    "\n",
    "## revised\n",
    "\n",
    "我们的大数应该都在一个很大的数域中完成，可以假定其中有 $N$ 阶原根，也就是 $x ^ N = 1$ 但 $x ^ {? < N} \\neq 1$。"
   ]
  },
  {
   "cell_type": "code",
   "execution_count": 57,
   "metadata": {},
   "outputs": [],
   "source": [
    "# Secp256k1 as an example\n",
    "\n",
    "p = 0xFFFFFFFF_FFFFFFFF_FFFFFFFF_FFFFFFFF_FFFFFFFF_FFFFFFFF_FFFFFFFE_FFFFFC2F\n",
    "\n",
    "# 数域是 $F_p$"
   ]
  },
  {
   "cell_type": "markdown",
   "metadata": {},
   "source": [
    "找个小点的数域做test"
   ]
  },
  {
   "cell_type": "code",
   "execution_count": 58,
   "metadata": {},
   "outputs": [
    {
     "name": "stdout",
     "output_type": "stream",
     "text": [
      "256-th root of unity: 3\n",
      "[3, 9, 27, 81, 243, 215, 131, 136, 151, 196, 74, 222, 152, 199, 83, 249, 233, 185, 41, 123, 112, 79, 237, 197, 77, 231, 179, 23, 69, 207, 107, 64, 192, 62, 186, 44, 132, 139, 160, 223, 155, 208, 110, 73, 219, 143, 172, 2, 6, 18, 54, 162, 229, 173, 5, 15, 45, 135, 148, 187, 47, 141, 166, 241, 209, 113, 82, 246, 224, 158, 217, 137, 154, 205, 101, 46, 138, 157, 214, 128, 127, 124, 115, 88, 7, 21, 63, 189, 53, 159, 220, 146, 181, 29, 87, 4, 12, 36, 108, 67, 201, 89, 10, 30, 90, 13, 39, 117, 94, 25, 75, 225, 161, 226, 164, 235, 191, 59, 177, 17, 51, 153, 202, 92, 19, 57, 171, 256, 254, 248, 230, 176, 14, 42, 126, 121, 106, 61, 183, 35, 105, 58, 174, 8, 24, 72, 216, 134, 145, 178, 20, 60, 180, 26, 78, 234, 188, 50, 150, 193, 65, 195, 71, 213, 125, 118, 97, 34, 102, 49, 147, 184, 38, 114, 85, 255, 251, 239, 203, 95, 28, 84, 252, 242, 212, 122, 109, 70, 210, 116, 91, 16, 48, 144, 175, 11, 33, 99, 40, 120, 103, 52, 156, 211, 119, 100, 43, 129, 130, 133, 142, 169, 250, 236, 194, 68, 204, 98, 37, 111, 76, 228, 170, 253, 245, 221, 149, 190, 56, 168, 247, 227, 167, 244, 218, 140, 163, 232, 182, 32, 96, 31, 93, 22, 66, 198, 80, 240, 206, 104, 55, 165, 238, 200, 86, 1]\n"
     ]
    }
   ],
   "source": [
    "p = 257\n",
    "\n",
    "# |F_p| = 256\n",
    "\n",
    "# 找到一个 256 阶原根\n",
    "\n",
    "root = 2\n",
    "while root < p:\n",
    "    if pow(root, p - 1, p) == 1:\n",
    "        more = False\n",
    "        for i in range(1, p - 1):\n",
    "            if pow(root, i, p) == 1:\n",
    "                more = True\n",
    "                break\n",
    "        if not more:\n",
    "            break\n",
    "    root += 1\n",
    "\n",
    "assert root < p\n",
    "print(f\"256-th root of unity: {root}\")\n",
    "\n",
    "powers = []\n",
    "for i in range(1, p):\n",
    "    powers.append(pow(root, i, p))\n",
    "\n",
    "print(powers)\n"
   ]
  },
  {
   "cell_type": "markdown",
   "metadata": {},
   "source": [
    "Revise the brute force NTT and INTT"
   ]
  },
  {
   "cell_type": "code",
   "execution_count": 59,
   "metadata": {},
   "outputs": [
    {
     "name": "stdout",
     "output_type": "stream",
     "text": [
      "list_to_ntt = [0, 1, 2, 3, 4, 5, 6, 7, 8, 9, 10, 11, 12, 13, 14, 15, 16, 17, 18, 19, 20, 21, 22, 23, 24, 25, 26, 27, 28, 29, 30, 31]\n",
      "ntt_result = [239, 84, 25, 168, 180, 190, 32, 39, 240, 227, 150, 115, 182, 72, 147, 2, 241, 223, 78, 153, 43, 110, 75, 255, 242, 186, 193, 35, 45, 57, 200, 141]\n",
      "intt_result = [0, 1, 2, 3, 4, 5, 6, 7, 8, 9, 10, 11, 12, 13, 14, 15, 16, 17, 18, 19, 20, 21, 22, 23, 24, 25, 26, 27, 28, 29, 30, 31]\n"
     ]
    }
   ],
   "source": [
    "list_to_ntt = [x % p for x in range(0, 32)]\n",
    "root_of_32 = pow(root, 8, p)\n",
    "reverse_of_root = pow(root_of_32, -1, p)\n",
    "\n",
    "print(f'list_to_ntt = {list_to_ntt}')\n",
    "\n",
    "def ntt(list, root):\n",
    "    ret = []\n",
    "    n = len(list)\n",
    "    assert pow(root, n, p) == 1\n",
    "    for j in range(n):\n",
    "        sum = 0\n",
    "        root_for_this_loop = pow(root, j, p)\n",
    "        for i in range(n):\n",
    "            sum += list[i] * pow(root_for_this_loop, i, p)\n",
    "            sum %= p\n",
    "        ret.append(sum)\n",
    "    return ret\n",
    "\n",
    "def intt(list, root):\n",
    "    ret = ntt(list, root)\n",
    "    n = len(list)\n",
    "    ret = [x * pow(n, -1, p) % p for x in ret]\n",
    "    return ret\n",
    "\n",
    "ntt_result = ntt(list_to_ntt, root_of_32)\n",
    "print(f'ntt_result = {ntt_result}')\n",
    "\n",
    "intt_result = intt(ntt_result, reverse_of_root)\n",
    "print(f'intt_result = {intt_result}')\n",
    "\n",
    "assert intt_result == list_to_ntt\n"
   ]
  },
  {
   "cell_type": "markdown",
   "metadata": {},
   "source": [
    "Why NTT is important?"
   ]
  },
  {
   "cell_type": "code",
   "execution_count": 60,
   "metadata": {},
   "outputs": [
    {
     "name": "stdout",
     "output_type": "stream",
     "text": [
      "conv_mul_result = [194, 108, 152, 69, 116, 36, 86, 9, 62, 245, 44, 230, 32, 221, 26, 218, 26, 221, 32, 230, 44, 245, 62, 9, 86, 36, 116, 69, 152, 108, 194, 153]\n",
      "conv_simple_result = [194, 108, 152, 69, 116, 36, 86, 9, 62, 245, 44, 230, 32, 221, 26, 218, 26, 221, 32, 230, 44, 245, 62, 9, 86, 36, 116, 69, 152, 108, 194, 153]\n"
     ]
    }
   ],
   "source": [
    "a_list = [x * 3 % p for x in range(0, 32)]\n",
    "b_list = [x * 4 % p for x in range(0, 32)]\n",
    "\n",
    "def conv_mul(a, b, root):\n",
    "    a_ntt = ntt(a, root)\n",
    "    b_ntt = ntt(b, root)\n",
    "    ret = [a_ntt[i] * b_ntt[i] % p for i in range(len(a))]\n",
    "    ret = intt(ret, pow(root, -1, p))\n",
    "    return ret\n",
    "\n",
    "def conv_simple(a, b):\n",
    "    assert len(a) == len(b);\n",
    "    n = len(a);\n",
    "    ret = [0 for i in range(n)]\n",
    "    for i in range(n):\n",
    "        for j in range(n):\n",
    "            k = (i + j) % n\n",
    "            ret[k] += a[i] * b[j]\n",
    "            ret[k] %= p\n",
    "    return ret\n",
    "\n",
    "conv_mul_result = conv_mul(a_list, b_list, root_of_32)\n",
    "print(f'conv_mul_result = {conv_mul_result}')\n",
    "\n",
    "conv_simple_result = conv_simple(a_list, b_list)\n",
    "print(f'conv_simple_result = {conv_simple_result}')\n",
    "\n",
    "assert conv_mul_result == conv_simple_result"
   ]
  },
  {
   "cell_type": "markdown",
   "metadata": {},
   "source": [
    "NTT matters only when it is faster thant brute force version."
   ]
  },
  {
   "cell_type": "code",
   "execution_count": 61,
   "metadata": {},
   "outputs": [
    {
     "name": "stdout",
     "output_type": "stream",
     "text": [
      "faster_ntt_result = [239, 84, 25, 168, 180, 190, 32, 39, 240, 227, 150, 115, 182, 72, 147, 2, 241, 223, 78, 153, 43, 110, 75, 255, 242, 186, 193, 35, 45, 57, 200, 141]\n"
     ]
    }
   ],
   "source": [
    "def faster_ntt(list, root):\n",
    "    n = len(list)\n",
    "    assert pow(root, n, p) == 1\n",
    "    if n == 1:\n",
    "        return list\n",
    "    assert n % 2 == 0\n",
    "    even = faster_ntt(list[0::2], pow(root, 2, p))\n",
    "    odd = faster_ntt(list[1::2], pow(root, 2, p))\n",
    "    ret = [0 for i in range(n)]\n",
    "    half = n // 2\n",
    "    for i in range(half):\n",
    "        ret[i] = (even[i] + pow(root, i, p) * odd[i]) % p\n",
    "        ret[i + half] = (even[i] - pow(root, i, p) * odd[i] + p) % p\n",
    "    return ret\n",
    "\n",
    "faster_ntt_result = faster_ntt(list_to_ntt, root_of_32)\n",
    "print(f'faster_ntt_result = {faster_ntt_result}')\n",
    "\n",
    "assert faster_ntt_result == ntt_result"
   ]
  },
  {
   "cell_type": "markdown",
   "metadata": {},
   "source": [
    "This is $O(N \\lg N)$ algorithm, should be much faster than the $O(N^2)$ algorithm\n"
   ]
  },
  {
   "cell_type": "markdown",
   "metadata": {},
   "source": [
    "What if the last 3/4 are all zero?\n",
    "\n",
    "e.g. \n",
    "\n",
    "list_to_ntt[32] = [1, 2, 3, 4, 5, 6, 7, 8, 0, ..., 0]\n",
    "\n",
    "BTW, can we first convert recursive version to loop version?"
   ]
  },
  {
   "cell_type": "code",
   "execution_count": 62,
   "metadata": {},
   "outputs": [
    {
     "name": "stdout",
     "output_type": "stream",
     "text": [
      "loop_ntt_result = [239, 84, 25, 168, 180, 190, 32, 39, 240, 227, 150, 115, 182, 72, 147, 2, 241, 223, 78, 153, 43, 110, 75, 255, 242, 186, 193, 35, 45, 57, 200, 141]\n"
     ]
    }
   ],
   "source": [
    "def reverse_of_bits(v, width):\n",
    "    ret = 0\n",
    "    for i in range(width):\n",
    "        ret |= ((v >> i) & 1) << (width - i - 1)\n",
    "    return ret\n",
    "\n",
    "assert reverse_of_bits(0b1010, 4) == 0b0101\n",
    "assert reverse_of_bits(0b1010, 3) == 0b010\n",
    "\n",
    "def loop_version_ntt(list, root):\n",
    "    n = len(list)\n",
    "    assert pow(root, n, p) == 1\n",
    "    assert n > 1 and n & (n - 1) == 0 # power of 2, in fact it is 32 here\n",
    "\n",
    "    bits_width_of_n = 0\n",
    "    n2 = n\n",
    "    while n2 > 0:\n",
    "        bits_width_of_n += 1\n",
    "        n2 >>= 1\n",
    "    bits_width_of_n -= 1\n",
    "    \n",
    "    assert n == 1 << bits_width_of_n\n",
    "\n",
    "    # rearrange the list\n",
    "    new_list = [0 for i in range(n)]\n",
    "    for i in range(n):\n",
    "        new_list[i] = list[reverse_of_bits(i, bits_width_of_n)]\n",
    "    list = new_list\n",
    "\n",
    "    for level in range(1, bits_width_of_n + 1):\n",
    "        half = 1 << (level - 1)\n",
    "        for i in range(0, n, half * 2):\n",
    "            for j in range(half):\n",
    "                a = list[i + j]\n",
    "                b = list[i + j + half]\n",
    "                list[i + j] = (a + pow(root, j << (bits_width_of_n - level)) * b) % p\n",
    "                list[i + j + half] = (a - pow(root, j << (bits_width_of_n - level)) * b + p) % p\n",
    "    \n",
    "    return list\n",
    "\n",
    "\n",
    "loop_ntt_result = loop_version_ntt(list_to_ntt, root_of_32)\n",
    "print(f'loop_ntt_result = {loop_ntt_result}')\n",
    "\n",
    "assert loop_ntt_result == ntt_result\n"
   ]
  }
 ],
 "metadata": {
  "kernelspec": {
   "display_name": "base",
   "language": "python",
   "name": "python3"
  },
  "language_info": {
   "codemirror_mode": {
    "name": "ipython",
    "version": 3
   },
   "file_extension": ".py",
   "mimetype": "text/x-python",
   "name": "python",
   "nbconvert_exporter": "python",
   "pygments_lexer": "ipython3",
   "version": "3.11.5"
  }
 },
 "nbformat": 4,
 "nbformat_minor": 2
}
