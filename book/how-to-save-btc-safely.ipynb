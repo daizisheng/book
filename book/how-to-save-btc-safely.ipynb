{
 "cells": [
  {
   "cell_type": "markdown",
   "metadata": {},
   "source": [
    "# How to save btc safely.\n",
    "\n",
    "## BIP0039 生成确定性密钥的助记词\n",
    "\n",
    "<https://en.bitcoin.it/wiki/BIP_0039>\n",
    "\n",
    "**BTC私钥** 实际上就是一个32字节的随机数组，而 **公钥** 是通过将椭圆曲线的 **生成元点** 自加而得到，自加的次数就是这个私钥 ，此时私钥被当作一个大整数。而 **BTC地址** 则是通过把公钥哈希而得到。程序逻辑如下：\n",
    "\n",
    "例子来自 <https://en.bitcoin.it/wiki/Technical_background_of_version_1_Bitcoin_addresses>"
   ]
  },
  {
   "cell_type": "code",
   "execution_count": 1,
   "metadata": {},
   "outputs": [
    {
     "name": "stdout",
     "output_type": "stream",
     "text": [
      "private_key: 0x18e14a7b6a307f426a94f8114701e7c8e774e7f9a47e2c2035db29a206321725\n"
     ]
    }
   ],
   "source": [
    "import random\n",
    "\n",
    "# 设置随机数种子，以便结果可重复\n",
    "random.seed(0)\n",
    "\n",
    "# 随机生成一个私钥\n",
    "private_key = random.randint(0, 2**256 - 1)\n",
    "\n",
    "# 为了方便，我们直接使用一个固定的私钥\n",
    "private_key = 0x18e14a7b6a307f426a94f8114701e7c8e774e7f9a47e2c2035db29a206321725\n",
    "print(f\"private_key: 0x{private_key:064x}\")"
   ]
  },
  {
   "cell_type": "code",
   "execution_count": 2,
   "metadata": {},
   "outputs": [
    {
     "name": "stdout",
     "output_type": "stream",
     "text": [
      "pub_key: 0x50863ad64a87ae8a2fe83c1af1a8403cb53f53e486d8511dad8a04887e5b2352, 0x2cd470243453a299fa9e77237716103abc11a1df38855ed6f2ee187e9c582ba6\n",
      "compressed_pub_key: 0x0250863ad64a87ae8a2fe83c1af1a8403cb53f53e486d8511dad8a04887e5b2352\n"
     ]
    }
   ],
   "source": [
    "# BTC所选择的椭圆曲线是secp256k1, 其参数如下\n",
    "p = 0xFFFFFFFFFFFFFFFFFFFFFFFFFFFFFFFFFFFFFFFFFFFFFFFFFFFFFFFEFFFFFC2F\n",
    "a = 0\n",
    "b = 7\n",
    "n = 0xFFFFFFFFFFFFFFFFFFFFFFFFFFFFFFFEBAAEDCE6AF48A03BBFD25E8CD0364141\n",
    "Gx = 0x79BE667EF9DCBBAC55A06295CE870B07029BFCDB2DCE28D959F2815B16F81798\n",
    "Gy = 0x483ADA7726A3C4655DA4FBFC0E1108A8FD17B448A68554199C47D08FFB10D4B8\n",
    "\n",
    "# 椭圆曲线的方程是 y^2 = x^3 + ax + b\n",
    "\n",
    "# 椭圆曲线上的加法如下，其中 None 表示无穷远点，即加法的单位元，即 0，p1和p2是椭圆曲线上的点\n",
    "def secp256k1_add(p1, p2):\n",
    "    if p1 is None:\n",
    "        return p2\n",
    "    if p2 is None:\n",
    "        return p1\n",
    "    if p1[0] == p2[0] and p1[1] != p2[1]:\n",
    "        # 两个点互为相反数，即相加为0\n",
    "        assert (p1[1] + p2[1] % p) == 0\n",
    "        return None\n",
    "    # s是斜率\n",
    "    if p1[0] == p2[0]:\n",
    "        s = (3 * p1[0] * p1[0] + a) * pow(2 * p1[1], -1, p)\n",
    "    else:\n",
    "        s = (p2[1] - p1[1]) * pow(p2[0] - p1[0], -1, p)\n",
    "    x = (s * s - p1[0] - p2[0]) % p\n",
    "    y = ( - (s * (x - p1[0]) + p1[1]) ) % p\n",
    "    return (x, y)\n",
    "\n",
    "# 私钥 -> 公钥 (倍点算法)\n",
    "def priv_key_to_pub_key(priv_key):\n",
    "    # 生成公钥\n",
    "    pub_key = None\n",
    "    base = (Gx, Gy)\n",
    "    for i in range(256):\n",
    "        if priv_key & (1 << i):\n",
    "            pub_key = secp256k1_add(pub_key, base)\n",
    "        base = secp256k1_add(base, base)\n",
    "    return pub_key\n",
    "\n",
    "# 生成公钥\n",
    "pub_key = priv_key_to_pub_key(private_key)\n",
    "print(f\"pub_key: 0x{pub_key[0]:064x}, 0x{pub_key[1]:064x}\")\n",
    "\n",
    "# 压缩形式的公钥\n",
    "if pub_key[1] & 1:\n",
    "    compressed_pub_key = 0x03\n",
    "else:\n",
    "    compressed_pub_key = 0x02\n",
    "compressed_pub_key = compressed_pub_key << 256 | pub_key[0]\n",
    "print(f\"compressed_pub_key: 0x{compressed_pub_key:066x}\")\n"
   ]
  },
  {
   "cell_type": "code",
   "execution_count": 3,
   "metadata": {},
   "outputs": [
    {
     "name": "stdout",
     "output_type": "stream",
     "text": [
      "sha256ed_pub_key: 0x0b7c28c9b7290c98d7438e70b3d3f7c848fbd7d1dc194ff83f4f7cc9b1378e98\n",
      "ripemd160ed_pub_key: 0xf54a5851e9372b87810a8e60cdd2e7cfd80b6e31\n",
      "ripemd160_pub_key_with_version: 0x00f54a5851e9372b87810a8e60cdd2e7cfd80b6e31\n",
      "sha256ed_ripemd160_pub_key_with_version: 0xad3c854da227c7e99c4abfad4ea41d71311160df2e415e713318c70d67c6b41c\n",
      "sha256ed_twice_ripemd160_pub_key_with_version: 0xc7f18fe8fcbed6396741e58ad259b5cb16b7fd7f041904147ba1dcffabf747fd\n",
      "checksum: 0xc7f18fe8\n",
      "address: 0x00f54a5851e9372b87810a8e60cdd2e7cfd80b6e31c7f18fe8\n",
      "base58 address: 1PMycacnJaSqwwJqjawXBErnLsZ7RkXUAs\n"
     ]
    }
   ],
   "source": [
    "import hashlib\n",
    "\n",
    "# 生成地址\n",
    "hashed_pub_key = hashlib.sha256(compressed_pub_key.to_bytes(33, 'big')).digest()\n",
    "print(f\"sha256ed_pub_key: 0x{int.from_bytes(hashed_pub_key, 'big'):064x}\")\n",
    "\n",
    "ripemd160_hasher = hashlib.new('ripemd160')\n",
    "ripemd160_hasher.update(hashed_pub_key)\n",
    "ripemd160_pub_key = ripemd160_hasher.digest()\n",
    "print(f\"ripemd160ed_pub_key: 0x{int.from_bytes(ripemd160_pub_key, 'big'):040x}\")\n",
    "\n",
    "ripemd160_pub_key_with_version = int.from_bytes(ripemd160_pub_key, 'big').to_bytes(21, 'big') # 添加版本号\n",
    "print(f\"ripemd160_pub_key_with_version: 0x{int.from_bytes(ripemd160_pub_key_with_version, 'big'):042x}\")\n",
    "\n",
    "hashed_ripemd160_pub_key_with_version = hashlib.sha256(ripemd160_pub_key_with_version).digest()\n",
    "print(f\"sha256ed_ripemd160_pub_key_with_version: 0x{int.from_bytes(hashed_ripemd160_pub_key_with_version, 'big'):064x}\")\n",
    "\n",
    "hashed_twice_ripemd160_pub_key_with_version = hashlib.sha256(hashed_ripemd160_pub_key_with_version).digest()\n",
    "print(f\"sha256ed_twice_ripemd160_pub_key_with_version: 0x{int.from_bytes(hashed_twice_ripemd160_pub_key_with_version, 'big'):064x}\")\n",
    "\n",
    "checksum = hashed_twice_ripemd160_pub_key_with_version[:4]\n",
    "print(f\"checksum: 0x{int.from_bytes(checksum, 'big'):08x}\")\n",
    "\n",
    "address = ripemd160_pub_key_with_version + checksum\n",
    "print(f\"address: 0x{int.from_bytes(address, 'big'):050x}\")\n",
    "\n",
    "# base58编码\n",
    "import base58\n",
    "address = base58.b58encode(address)\n",
    "print(f\"base58 address: {address.decode('utf-8')}\")\n",
    "assert address.decode('utf-8') == \"1PMycacnJaSqwwJqjawXBErnLsZ7RkXUAs\""
   ]
  },
  {
   "cell_type": "markdown",
   "metadata": {},
   "source": [
    "上面就是生成私钥，以及从私钥生成比特币地址的完整过程。为了防止币的丢失，就必须保证私钥被妥善保管。私钥的随机性，导致了私钥难于准确的被记录。BIP0039尝试解决这个问题。\n",
    "\n",
    "BIP0039中，我们首先生成 **随机比特** ，然后根据随机比特生成 **助记词** ，然后根据助记词生成 **私钥**。我们只需要记住助记词，就能随时重新生成私钥，从而生成公钥以及地址。而助记词由若干单词组成，方便记忆或者记录。为了进一步方便记忆和记录，BIP0039对助记词的选择做了限制，并且还添加了额外的冗余防止记忆出错。\n",
    "\n",
    "助记词词典由2048个英文单词组成。这个词典还有一些特殊性质，一切都是为了更容易记忆或者记录。\n",
    "\n",
    "1. 只要前4个字母，就能区分所有单词。\n",
    "2. 相似的词语不选用。\n",
    "3. 单词列表是有序的。\n",
    "\n",
    "完整的单词列表如下："
   ]
  },
  {
   "cell_type": "code",
   "execution_count": 4,
   "metadata": {},
   "outputs": [
    {
     "name": "stdout",
     "output_type": "stream",
     "text": [
      "mnemonic_word_list: abandon,ability,able,about,...\n"
     ]
    }
   ],
   "source": [
    "mnemonic_word_list = 'abandon ability able about above absent absorb abstract absurd abuse access accident account accuse achieve acid acoustic acquire across act action actor actress actual adapt add addict address adjust admit adult advance advice aerobic affair afford afraid again age agent agree ahead aim air airport aisle alarm album alcohol alert alien all alley allow almost alone alpha already also alter always amateur amazing among amount amused analyst anchor ancient anger angle angry animal ankle announce annual another answer antenna antique anxiety any apart apology appear apple approve april arch arctic area arena argue arm armed armor army around arrange arrest arrive arrow art artefact artist artwork ask aspect assault asset assist assume asthma athlete atom attack attend attitude attract auction audit august aunt author auto autumn average avocado avoid awake aware away awesome awful awkward axis baby bachelor bacon badge bag balance balcony ball bamboo banana banner bar barely bargain barrel base basic basket battle beach bean beauty because become beef before begin behave behind believe below belt bench benefit best betray better between beyond bicycle bid bike bind biology bird birth bitter black blade blame blanket blast bleak bless blind blood blossom blouse blue blur blush board boat body boil bomb bone bonus book boost border boring borrow boss bottom bounce box boy bracket brain brand brass brave bread breeze brick bridge brief bright bring brisk broccoli broken bronze broom brother brown brush bubble buddy budget buffalo build bulb bulk bullet bundle bunker burden burger burst bus business busy butter buyer buzz cabbage cabin cable cactus cage cake call calm camera camp can canal cancel candy cannon canoe canvas canyon capable capital captain car carbon card cargo carpet carry cart case cash casino castle casual cat catalog catch category cattle caught cause caution cave ceiling celery cement census century cereal certain chair chalk champion change chaos chapter charge chase chat cheap check cheese chef cherry chest chicken chief child chimney choice choose chronic chuckle chunk churn cigar cinnamon circle citizen city civil claim clap clarify claw clay clean clerk clever click client cliff climb clinic clip clock clog close cloth cloud clown club clump cluster clutch coach coast coconut code coffee coil coin collect color column combine come comfort comic common company concert conduct confirm congress connect consider control convince cook cool copper copy coral core corn correct cost cotton couch country couple course cousin cover coyote crack cradle craft cram crane crash crater crawl crazy cream credit creek crew cricket crime crisp critic crop cross crouch crowd crucial cruel cruise crumble crunch crush cry crystal cube culture cup cupboard curious current curtain curve cushion custom cute cycle dad damage damp dance danger daring dash daughter dawn day deal debate debris decade december decide decline decorate decrease deer defense define defy degree delay deliver demand demise denial dentist deny depart depend deposit depth deputy derive describe desert design desk despair destroy detail detect develop device devote diagram dial diamond diary dice diesel diet differ digital dignity dilemma dinner dinosaur direct dirt disagree discover disease dish dismiss disorder display distance divert divide divorce dizzy doctor document dog doll dolphin domain donate donkey donor door dose double dove draft dragon drama drastic draw dream dress drift drill drink drip drive drop drum dry duck dumb dune during dust dutch duty dwarf dynamic eager eagle early earn earth easily east easy echo ecology economy edge edit educate effort egg eight either elbow elder electric elegant element elephant elevator elite else embark embody embrace emerge emotion employ empower empty enable enact end endless endorse enemy energy enforce engage engine enhance enjoy enlist enough enrich enroll ensure enter entire entry envelope episode equal equip era erase erode erosion error erupt escape essay essence estate eternal ethics evidence evil evoke evolve exact example excess exchange excite exclude excuse execute exercise exhaust exhibit exile exist exit exotic expand expect expire explain expose express extend extra eye eyebrow fabric face faculty fade faint faith fall false fame family famous fan fancy fantasy farm fashion fat fatal father fatigue fault favorite feature february federal fee feed feel female fence festival fetch fever few fiber fiction field figure file film filter final find fine finger finish fire firm first fiscal fish fit fitness fix flag flame flash flat flavor flee flight flip float flock floor flower fluid flush fly foam focus fog foil fold follow food foot force forest forget fork fortune forum forward fossil foster found fox fragile frame frequent fresh friend fringe frog front frost frown frozen fruit fuel fun funny furnace fury future gadget gain galaxy gallery game gap garage garbage garden garlic garment gas gasp gate gather gauge gaze general genius genre gentle genuine gesture ghost giant gift giggle ginger giraffe girl give glad glance glare glass glide glimpse globe gloom glory glove glow glue goat goddess gold good goose gorilla gospel gossip govern gown grab grace grain grant grape grass gravity great green grid grief grit grocery group grow grunt guard guess guide guilt guitar gun gym habit hair half hammer hamster hand happy harbor hard harsh harvest hat have hawk hazard head health heart heavy hedgehog height hello helmet help hen hero hidden high hill hint hip hire history hobby hockey hold hole holiday hollow home honey hood hope horn horror horse hospital host hotel hour hover hub huge human humble humor hundred hungry hunt hurdle hurry hurt husband hybrid ice icon idea identify idle ignore ill illegal illness image imitate immense immune impact impose improve impulse inch include income increase index indicate indoor industry infant inflict inform inhale inherit initial inject injury inmate inner innocent input inquiry insane insect inside inspire install intact interest into invest invite involve iron island isolate issue item ivory jacket jaguar jar jazz jealous jeans jelly jewel job join joke journey joy judge juice jump jungle junior junk just kangaroo keen keep ketchup key kick kid kidney kind kingdom kiss kit kitchen kite kitten kiwi knee knife knock know lab label labor ladder lady lake lamp language laptop large later latin laugh laundry lava law lawn lawsuit layer lazy leader leaf learn leave lecture left leg legal legend leisure lemon lend length lens leopard lesson letter level liar liberty library license life lift light like limb limit link lion liquid list little live lizard load loan lobster local lock logic lonely long loop lottery loud lounge love loyal lucky luggage lumber lunar lunch luxury lyrics machine mad magic magnet maid mail main major make mammal man manage mandate mango mansion manual maple marble march margin marine market marriage mask mass master match material math matrix matter maximum maze meadow mean measure meat mechanic medal media melody melt member memory mention menu mercy merge merit merry mesh message metal method middle midnight milk million mimic mind minimum minor minute miracle mirror misery miss mistake mix mixed mixture mobile model modify mom moment monitor monkey monster month moon moral more morning mosquito mother motion motor mountain mouse move movie much muffin mule multiply muscle museum mushroom music must mutual myself mystery myth naive name napkin narrow nasty nation nature near neck need negative neglect neither nephew nerve nest net network neutral never news next nice night noble noise nominee noodle normal north nose notable note nothing notice novel now nuclear number nurse nut oak obey object oblige obscure observe obtain obvious occur ocean october odor off offer office often oil okay old olive olympic omit once one onion online only open opera opinion oppose option orange orbit orchard order ordinary organ orient original orphan ostrich other outdoor outer output outside oval oven over own owner oxygen oyster ozone pact paddle page pair palace palm panda panel panic panther paper parade parent park parrot party pass patch path patient patrol pattern pause pave payment peace peanut pear peasant pelican pen penalty pencil people pepper perfect permit person pet phone photo phrase physical piano picnic picture piece pig pigeon pill pilot pink pioneer pipe pistol pitch pizza place planet plastic plate play please pledge pluck plug plunge poem poet point polar pole police pond pony pool popular portion position possible post potato pottery poverty powder power practice praise predict prefer prepare present pretty prevent price pride primary print priority prison private prize problem process produce profit program project promote proof property prosper protect proud provide public pudding pull pulp pulse pumpkin punch pupil puppy purchase purity purpose purse push put puzzle pyramid quality quantum quarter question quick quit quiz quote rabbit raccoon race rack radar radio rail rain raise rally ramp ranch random range rapid rare rate rather raven raw razor ready real reason rebel rebuild recall receive recipe record recycle reduce reflect reform refuse region regret regular reject relax release relief rely remain remember remind remove render renew rent reopen repair repeat replace report require rescue resemble resist resource response result retire retreat return reunion reveal review reward rhythm rib ribbon rice rich ride ridge rifle right rigid ring riot ripple risk ritual rival river road roast robot robust rocket romance roof rookie room rose rotate rough round route royal rubber rude rug rule run runway rural sad saddle sadness safe sail salad salmon salon salt salute same sample sand satisfy satoshi sauce sausage save say scale scan scare scatter scene scheme school science scissors scorpion scout scrap screen script scrub sea search season seat second secret section security seed seek segment select sell seminar senior sense sentence series service session settle setup seven shadow shaft shallow share shed shell sheriff shield shift shine ship shiver shock shoe shoot shop short shoulder shove shrimp shrug shuffle shy sibling sick side siege sight sign silent silk silly silver similar simple since sing siren sister situate six size skate sketch ski skill skin skirt skull slab slam sleep slender slice slide slight slim slogan slot slow slush small smart smile smoke smooth snack snake snap sniff snow soap soccer social sock soda soft solar soldier solid solution solve someone song soon sorry sort soul sound soup source south space spare spatial spawn speak special speed spell spend sphere spice spider spike spin spirit split spoil sponsor spoon sport spot spray spread spring spy square squeeze squirrel stable stadium staff stage stairs stamp stand start state stay steak steel stem step stereo stick still sting stock stomach stone stool story stove strategy street strike strong struggle student stuff stumble style subject submit subway success such sudden suffer sugar suggest suit summer sun sunny sunset super supply supreme sure surface surge surprise surround survey suspect sustain swallow swamp swap swarm swear sweet swift swim swing switch sword symbol symptom syrup system table tackle tag tail talent talk tank tape target task taste tattoo taxi teach team tell ten tenant tennis tent term test text thank that theme then theory there they thing this thought three thrive throw thumb thunder ticket tide tiger tilt timber time tiny tip tired tissue title toast tobacco today toddler toe together toilet token tomato tomorrow tone tongue tonight tool tooth top topic topple torch tornado tortoise toss total tourist toward tower town toy track trade traffic tragic train transfer trap trash travel tray treat tree trend trial tribe trick trigger trim trip trophy trouble truck true truly trumpet trust truth try tube tuition tumble tuna tunnel turkey turn turtle twelve twenty twice twin twist two type typical ugly umbrella unable unaware uncle uncover under undo unfair unfold unhappy uniform unique unit universe unknown unlock until unusual unveil update upgrade uphold upon upper upset urban urge usage use used useful useless usual utility vacant vacuum vague valid valley valve van vanish vapor various vast vault vehicle velvet vendor venture venue verb verify version very vessel veteran viable vibrant vicious victory video view village vintage violin virtual virus visa visit visual vital vivid vocal voice void volcano volume vote voyage wage wagon wait walk wall walnut want warfare warm warrior wash wasp waste water wave way wealth weapon wear weasel weather web wedding weekend weird welcome west wet whale what wheat wheel when where whip whisper wide width wife wild will win window wine wing wink winner winter wire wisdom wise wish witness wolf woman wonder wood wool word work world worry worth wrap wreck wrestle wrist write wrong yard year yellow you young youth zebra zero zone zoo'\n",
    "mnemonic_word_list = mnemonic_word_list.split(' ')\n",
    "\n",
    "assert len(mnemonic_word_list) == 2048\n",
    "\n",
    "# 检查前4位是否能唯一确定一个助记词\n",
    "def check_mnemonic_word_list(mnemonic_word_list):\n",
    "    mnemonic_word_list = list(mnemonic_word_list)\n",
    "    mnemonic_word_list = [word[:4] for word in mnemonic_word_list]\n",
    "    mnemonic_word_list = set(mnemonic_word_list)\n",
    "    assert len(mnemonic_word_list) == 2048\n",
    "check_mnemonic_word_list(mnemonic_word_list)\n",
    "\n",
    "print(f\"mnemonic_word_list: {','.join(mnemonic_word_list[0:4])},...\")"
   ]
  },
  {
   "cell_type": "markdown",
   "metadata": {},
   "source": [
    "助记词的个数可以是12个或者更多，我们以12个助记词为例来说明BIP0039。\n",
    "\n",
    "12个助记词，每个助记词从2048个单词中随机挑选，说明我们至少需要 `12 * 11 = 132` 个随机比特。在BIP0039中，12个助记词我们使用4个比特的校验码，因此剩余的128个比特来自随机。示例如下：\n",
    "\n",
    "测试例子来自 <https://github.com/trezor/python-mnemonic/blob/master/vectors.json>"
   ]
  },
  {
   "cell_type": "code",
   "execution_count": 5,
   "metadata": {},
   "outputs": [
    {
     "name": "stdout",
     "output_type": "stream",
     "text": [
      "mnemonic: ozone drill grab fiber curtain grace pudding thank cruise elder eight picnic\n"
     ]
    }
   ],
   "source": [
    "random_bits = random.randint(0, 2**128 - 1)\n",
    "\n",
    "# 为了方便，我们直接使用一个固定的随机数\n",
    "random_bits = 0x9e885d952ad362caeb4efe34a8e91bd2\n",
    "\n",
    "random_bytes = random_bits.to_bytes(16, 'big')\n",
    "sha256ed_random_bytes = hashlib.sha256(random_bytes).digest()\n",
    "sha256ed_random_bytes_as_int = int.from_bytes(sha256ed_random_bytes, 'big')\n",
    "random_bits = (random_bits << 4) | (sha256ed_random_bytes_as_int >> (256 - 4))\n",
    "\n",
    "mnemonic = []\n",
    "for i in range(12):\n",
    "    mnemonic.append(mnemonic_word_list[random_bits & 2047])\n",
    "    random_bits = random_bits >> 11\n",
    "mnemonic = mnemonic[::-1]\n",
    "mnemonic = ' '.join(mnemonic)\n",
    "print(f\"mnemonic: {mnemonic}\")"
   ]
  },
  {
   "cell_type": "code",
   "execution_count": 6,
   "metadata": {},
   "outputs": [
    {
     "name": "stdout",
     "output_type": "stream",
     "text": [
      "seed: 0x274ddc525802f7c828d8ef7ddbcdc5304e87ac3535913611fbbfa986d0c9e5476c91689f9c8a54fd55bd38606aa6a8595ad213d4c9c9f9aca3fb217069a41028\n"
     ]
    }
   ],
   "source": [
    "# 这里选择TREZOR作为密码，是因为我们的测试例子来自TREZOR\n",
    "salt = \"mnemonic\" + \"TREZOR\"\n",
    "\n",
    "# password based key derivation function 2\n",
    "seed = hashlib.pbkdf2_hmac('sha512', mnemonic.encode('utf-8'), salt.encode('utf-8'), 2048)\n",
    "print(f\"seed: 0x{int.from_bytes(seed, 'big'):0128x}\")\n",
    "\n",
    "def my_hmac(key_bytes, msg_bytes):\n",
    "    block_size_of_sha512 = 128\n",
    "    if len(key_bytes) > block_size_of_sha512:\n",
    "        key_bytes = hashlib.sha512(key_bytes).digest()\n",
    "    else:\n",
    "        key_bytes = key_bytes + bytes(block_size_of_sha512 - len(key_bytes))\n",
    "    opad = 0x5c\n",
    "    ipad = 0x36\n",
    "\n",
    "    part1 = bytes([x ^ opad for x in key_bytes])\n",
    "    part2 = bytes([x ^ ipad for x in key_bytes]) + msg_bytes\n",
    "    return hashlib.sha512(part1 + hashlib.sha512(part2).digest()).digest()\n",
    "\n",
    "assert int.from_bytes(my_hmac( \"key\".encode('utf-8'), \"The quick brown fox jumps over the lazy dog\".encode('utf-8') ), \"big\") == \\\n",
    "        0xb42af09057bac1e2d41708e48a902e09b5ff7f12ab428a4fe86653c73dd248fb82f948a549f7b791a5b41915ee4d1ec3935357e4e2317250d0372afa2ebeeb3a\n",
    "\n",
    "def my_pbkdf2(mnemonic_bytes, salt_bytes):\n",
    "    u = salt_bytes + (1).to_bytes(4, 'big')\n",
    "    ret = None\n",
    "    for _ in range(2048):\n",
    "        u = my_hmac(mnemonic_bytes, u)\n",
    "        if ret is None:\n",
    "            ret = u\n",
    "        else:\n",
    "            ret = bytes([x ^ y for x, y in zip(ret, u)])\n",
    "    return ret\n",
    "\n",
    "seed2 = my_pbkdf2(mnemonic.encode('utf-8'), salt.encode('utf-8'))\n",
    "assert int.from_bytes(seed, 'big') == int.from_bytes(seed2, 'big')\n"
   ]
  },
  {
   "cell_type": "markdown",
   "metadata": {},
   "source": [
    "好了，有了这个seed之后怎么办？这个还需要 BIP0032 来帮助了。\n",
    "\n",
    "## BIP0032 分层确定性钱包\n",
    "\n",
    "如上，我们有了一个seed，原则上，我们把这个seed直接处理一下，就可以得到一个私钥，但是 BIP0032 给出了一个更好的方案，如何由一个seed确定性的得到很多的私钥。BIP0032其实解决了一个问题，那就是你可以只备份一次，就可以生成无限多个地址来使用。要知道，在早期，因为忘了及时备份，丢失新生成的地址上的币是很频繁的。历史上，比特币官方客户端在打币的时候，每次都会为找零生成新地址，这就更加剧了丢币的行为。\n",
    "\n",
    "首先我们根据seed生成一个主私钥以及主公钥"
   ]
  },
  {
   "cell_type": "code",
   "execution_count": 7,
   "metadata": {},
   "outputs": [
    {
     "name": "stdout",
     "output_type": "stream",
     "text": [
      "master_private_key: xprv9s21ZrQH143K31xYSDQpPDxsXRTUcvj2iNHm5NUtrGiGG5e2DtALGdso3pGz6ssrdK4PFmM8NSpSBHNqPqm55Qn3LqFtT2emdEXVYsCzC2U\n",
      "master_public_point: xpub661MyMwAqRbcFW31YEwpkMuc5THy2PSt5bDMsktWQcFF8syAmRUapSCGu8ED9W6oDMSgv6Zz8idoc4a6mr8BDzTJY47LJhkJ8UB7WEGuduB\n"
     ]
    }
   ],
   "source": [
    "# 为了方便，我们直接使用一个固定的seed\n",
    "seed = 0xfffcf9f6f3f0edeae7e4e1dedbd8d5d2cfccc9c6c3c0bdbab7b4b1aeaba8a5a29f9c999693908d8a8784817e7b7875726f6c696663605d5a5754514e4b484542\n",
    "\n",
    "I = my_hmac(b\"Bitcoin seed\", seed.to_bytes(64, 'big'))\n",
    "I_L = I[:32]\n",
    "I_R = I[32:]\n",
    "master_private_key = int.from_bytes(I_L, 'big')\n",
    "master_chain_code = int.from_bytes(I_R, 'big')\n",
    "master_public_point = priv_key_to_pub_key(master_private_key)\n",
    "master_public_key = (b'\\x02' if (master_public_point[1] & 1) == 0 else b'\\x03') + master_public_point[0].to_bytes(32, 'big')\n",
    "tmp = hashlib.new('ripemd160')\n",
    "tmp.update(hashlib.sha256(master_public_key).digest())\n",
    "hash160_master_public_key = tmp.digest()\n",
    "master_fingerprint = int.from_bytes(hash160_master_public_key[:4], 'big')\n",
    "\n",
    "def serialize_mainnet_private_key(private_key, chain_code, depth=0, parent_fingerprint=0, child_number=0):\n",
    "    ret = (0x0488ADE4).to_bytes(4, 'big') # version\n",
    "    ret += depth.to_bytes(1, 'big') # depth\n",
    "    ret += parent_fingerprint.to_bytes(4, 'big') # parent fingerprint\n",
    "    ret += child_number.to_bytes(4, 'big') # child number\n",
    "    ret += chain_code.to_bytes(32, 'big') # chain code\n",
    "    ret += b'\\x00' + private_key.to_bytes(32, 'big') # private key\n",
    "    checksum = hashlib.sha256(ret).digest()\n",
    "    checksum = hashlib.sha256(checksum).digest()\n",
    "    ret += checksum[:4] # checksum\n",
    "    return ret\n",
    "\n",
    "def serialize_mainnet_public_point(public_point, chain_code, depth=0, parent_fingerprint=0, child_number=0):\n",
    "    ret = (0x0488B21E).to_bytes(4, 'big') # version\n",
    "    ret += depth.to_bytes(1, 'big') # depth\n",
    "    ret += parent_fingerprint.to_bytes(4, 'big') # parent fingerprint\n",
    "    ret += child_number.to_bytes(4, 'big') # child number\n",
    "    ret += chain_code.to_bytes(32, 'big') # chain code\n",
    "    if public_point[1] & 1:\n",
    "        ret += b'\\x03'\n",
    "    else:\n",
    "        ret += b'\\x02'\n",
    "    ret += public_point[0].to_bytes(32, 'big') # public key\n",
    "    checksum = hashlib.sha256(ret).digest()\n",
    "    checksum = hashlib.sha256(checksum).digest()\n",
    "    ret += checksum[:4] # checksum\n",
    "    return ret\n",
    "\n",
    "serialized_mainnet_private_key = base58.b58encode(serialize_mainnet_private_key(master_private_key, master_chain_code)).decode('utf-8')\n",
    "print(f\"master_private_key: {serialized_mainnet_private_key}\")\n",
    "assert serialized_mainnet_private_key == \"xprv9s21ZrQH143K31xYSDQpPDxsXRTUcvj2iNHm5NUtrGiGG5e2DtALGdso3pGz6ssrdK4PFmM8NSpSBHNqPqm55Qn3LqFtT2emdEXVYsCzC2U\"\n",
    "\n",
    "serialized_mainnet_public_point = base58.b58encode(serialize_mainnet_public_point(master_public_point, master_chain_code)).decode('utf-8')\n",
    "print(f\"master_public_point: {serialized_mainnet_public_point}\")\n",
    "assert serialized_mainnet_public_point == \"xpub661MyMwAqRbcFW31YEwpkMuc5THy2PSt5bDMsktWQcFF8syAmRUapSCGu8ED9W6oDMSgv6Zz8idoc4a6mr8BDzTJY47LJhkJ8UB7WEGuduB\"\n"
   ]
  },
  {
   "cell_type": "markdown",
   "metadata": {},
   "source": [
    "上面生成的主私钥和公钥我们成为 **m** (master的意思)。那我们怎么派生出更多的私钥和公钥呢？\n",
    "\n",
    "下面我们来生成 **m/0** (这个类似一个路径的感觉)。"
   ]
  },
  {
   "cell_type": "code",
   "execution_count": 8,
   "metadata": {},
   "outputs": [
    {
     "name": "stdout",
     "output_type": "stream",
     "text": [
      "child_private_key: xprv9vHkqa6EV4sPZHYqZznhT2NPtPCjKuDKGY38FBWLvgaDx45zo9WQRUT3dKYnjwih2yJD9mkrocEZXo1ex8G81dwSM1fwqWpWkeS3v86pgKt\n",
      "child_public_point: xpub69H7F5d8KSRgmmdJg2KhpAK8SR3DjMwAdkxj3ZuxV27CprR9LgpeyGmXUbC6wb7ERfvrnKZjXoUmmDznezpbZb7ap6r1D3tgFxHmwMkQTPH\n"
     ]
    }
   ],
   "source": [
    "child_number = 0\n",
    "I = my_hmac(master_chain_code.to_bytes(32, 'big'), master_public_key + child_number.to_bytes(4, 'big'))\n",
    "# 核心在这里，父节点的私钥影响了字节点的私钥\n",
    "child_private_key = (int.from_bytes(I[:32], 'big') + master_private_key) % n\n",
    "child_chain_code = int.from_bytes(I[32:], 'big')\n",
    "child_public_point = priv_key_to_pub_key(child_private_key)\n",
    "child_public_key = (b'\\x02' if (child_public_point[1] & 1) == 0 else b'\\x03') + child_public_point[0].to_bytes(32, 'big')\n",
    "tmp = hashlib.new('ripemd160')\n",
    "tmp.update(hashlib.sha256(child_public_key).digest())\n",
    "hash160_child_public_key = tmp.digest()\n",
    "child_fingerprint = int.from_bytes(hash160_child_public_key[:4], 'big')\n",
    "\n",
    "serialized_mainnet_child_private_key = base58.b58encode(serialize_mainnet_private_key(child_private_key, child_chain_code, 1, master_fingerprint, child_number)).decode('utf-8')\n",
    "print(f\"child_private_key: {serialized_mainnet_child_private_key}\")\n",
    "assert serialized_mainnet_child_private_key == \"xprv9vHkqa6EV4sPZHYqZznhT2NPtPCjKuDKGY38FBWLvgaDx45zo9WQRUT3dKYnjwih2yJD9mkrocEZXo1ex8G81dwSM1fwqWpWkeS3v86pgKt\"\n",
    "\n",
    "serialized_mainnet_child_public_point = base58.b58encode(serialize_mainnet_public_point(child_public_point, child_chain_code, 1, master_fingerprint, child_number)).decode('utf-8')\n",
    "print(f\"child_public_point: {serialized_mainnet_child_public_point}\")\n",
    "assert serialized_mainnet_child_public_point == \"xpub69H7F5d8KSRgmmdJg2KhpAK8SR3DjMwAdkxj3ZuxV27CprR9LgpeyGmXUbC6wb7ERfvrnKZjXoUmmDznezpbZb7ap6r1D3tgFxHmwMkQTPH\"\n"
   ]
  },
  {
   "cell_type": "markdown",
   "metadata": {},
   "source": [
    "如上，我们就可以得到很多的衍生私钥和公钥，他们可以识别为\n",
    "\n",
    "- **m**\n",
    "- **m/0** , **m/1** , ...\n",
    "- **m/0/0** , ... , **m/1/0**\n",
    "- ... \n",
    "\n",
    "在上述的衍生过程中，我们已知父节点的私钥以及公钥，从而可以容易的衍生出子节点的私钥以及公钥。这里更有意思的是，如果我们只知道父节点的公钥，我们能够得到子节点的信息么？为什么这个很重要，可以考虑这样的应用场景。父节点（或者主节点）的私钥存在冷钱包里面，但是其公钥是放在热钱包里面的，方便收款和查看余额，如果能够直接从父节点的公钥得到子节点的公钥，那我们就可以方便创建更多地址了。\n",
    "\n",
    "如果理解一下上面的衍生过程，我们可以看出，这个想法是可以实现的。上面的衍生过程可以看作这样几个子过程:\n",
    "\n",
    "1. master_public_point, master_chain_code -> I\n",
    "2. I -> child_chain_code\n",
    "3. I + master_private_key -> child_private_key\n",
    "4. child_private_key -> child_public_point\n",
    "\n",
    "3和4可以结合起来得到:\n",
    "\n",
    "1. master_public_point, master_chain_code -> I\n",
    "2. I -> child_chain_code\n",
    "3. I + master_public_point -> child_public_point"
   ]
  },
  {
   "cell_type": "code",
   "execution_count": 9,
   "metadata": {},
   "outputs": [],
   "source": [
    "new_I = my_hmac(master_chain_code.to_bytes(32, 'big'), master_public_key + child_number.to_bytes(4, 'big'))\n",
    "new_child_public_point = secp256k1_add(priv_key_to_pub_key(int.from_bytes(new_I[:32], 'big')), master_public_point)\n",
    "assert new_child_public_point == child_public_point"
   ]
  },
  {
   "cell_type": "markdown",
   "metadata": {},
   "source": [
    "实际上，BIP0032还搞了一种衍生机制，我猜可能是为隐私的考虑。因为如上所述，从父节点的公钥就可以推测出所有子节点的公钥，那我知道了你的公钥，就可以容易的推算出所有子节点、孙子节点的公钥，从而查看你的余额，一点隐私都没有了。\n",
    "\n",
    "这种新的机制把 **child_number >= 2^31** 单独拿出来，加以隐私考虑，为了书写方便，这个衍生方式用 **m/0'** 来代表 **child_number=2^31** 。\n",
    "\n",
    "下面是 **m/0/2147483647'**"
   ]
  },
  {
   "cell_type": "code",
   "execution_count": 10,
   "metadata": {},
   "outputs": [
    {
     "name": "stdout",
     "output_type": "stream",
     "text": [
      "grandson_private_key: xprv9wSp6B7kry3Vj9m1zSnLvN3xH8RdsPP1Mh7fAaR7aRLcQMKTR2vidYEeEg2mUCTAwCd6vnxVrcjfy2kRgVsFawNzmjuHc2YmYRmagcEPdU9\n",
      "grandson_public_point: xpub6ASAVgeehLbnwdqV6UKMHVzgqAG8Gr6riv3Fxxpj8ksbH9ebxaEyBLZ85ySDhKiLDBrQSARLq1uNRts8RuJiHjaDMBU4Zn9h8LZNnBC5y4a\n"
     ]
    }
   ],
   "source": [
    "grandson_number = 2147483647 + 2**31\n",
    "# 注意这里的区别，如果不知道父节点的私钥，我们是得不到I的数据的\n",
    "I = my_hmac(child_chain_code.to_bytes(32, 'big'), b'\\x00' + child_private_key.to_bytes(32, 'big') + grandson_number.to_bytes(4, 'big'))\n",
    "grandson_private_key = (int.from_bytes(I[:32], 'big') + child_private_key) % n\n",
    "grandson_chain_code = int.from_bytes(I[32:], 'big')\n",
    "grandson_public_point = priv_key_to_pub_key(grandson_private_key)\n",
    "grandson_public_key = (b'\\x02' if (grandson_public_point[1] & 1) == 0 else b'\\x03') + grandson_public_point[0].to_bytes(32, 'big')\n",
    "tmp = hashlib.new('ripemd160')\n",
    "tmp.update(hashlib.sha256(grandson_public_key).digest())\n",
    "hash160_grandson_public_key = tmp.digest()\n",
    "grandson_fingerprint = int.from_bytes(hash160_grandson_public_key[:4], 'big')\n",
    "\n",
    "serialized_mainnet_grandson_private_key = base58.b58encode(serialize_mainnet_private_key(grandson_private_key, grandson_chain_code, 2, child_fingerprint, grandson_number)).decode('utf-8')\n",
    "print(f\"grandson_private_key: {serialized_mainnet_grandson_private_key}\")\n",
    "assert serialized_mainnet_grandson_private_key == \"xprv9wSp6B7kry3Vj9m1zSnLvN3xH8RdsPP1Mh7fAaR7aRLcQMKTR2vidYEeEg2mUCTAwCd6vnxVrcjfy2kRgVsFawNzmjuHc2YmYRmagcEPdU9\"\n",
    "\n",
    "serialized_mainnet_grandson_public_point = base58.b58encode(serialize_mainnet_public_point(grandson_public_point, grandson_chain_code, 2, child_fingerprint, grandson_number)).decode('utf-8')\n",
    "print(f\"grandson_public_point: {serialized_mainnet_grandson_public_point}\")\n",
    "assert serialized_mainnet_grandson_public_point == \"xpub6ASAVgeehLbnwdqV6UKMHVzgqAG8Gr6riv3Fxxpj8ksbH9ebxaEyBLZ85ySDhKiLDBrQSARLq1uNRts8RuJiHjaDMBU4Zn9h8LZNnBC5y4a\"\n"
   ]
  },
  {
   "cell_type": "markdown",
   "metadata": {},
   "source": [
    "## bither.net钱包\n",
    "\n",
    "<https://bither.net>\n",
    "\n",
    "基于版本1.4.8: 4d8770d4c24620bf40559ae402148d526ea488b0069b7347fe0903fec9a73b51 bither-desktop.jar\n",
    "\n",
    "做个小实验。首先我们用bither生成一个HDM热钱包，相关数据如下。根据 BIP0044，我们猜测这个地址的衍生路径是 **m/44'/0'/0'/0/0** ，我们来验证一下。\n"
   ]
  },
  {
   "cell_type": "code",
   "execution_count": 11,
   "metadata": {},
   "outputs": [
    {
     "name": "stdout",
     "output_type": "stream",
     "text": [
      "bither_mnemnic_words_as_int: 0xa1fbf36e227989d4698f251f4841c206\n",
      "computed_bither_first_btc_address: 1Ntu2p29uSgkjvHihLrDvnKwWxx7VnZ6Lv\n"
     ]
    }
   ],
   "source": [
    "bither_mnemnic_words = \"peanut-test-swear-eager-obtain-tuition-plate-tool-butter-dragon-identify-army\".replace('-', ' ')\n",
    "bither_mnemnic_words_as_idx_list = [mnemonic_word_list.index(word) for word in bither_mnemnic_words.split(' ')]\n",
    "bither_mnemnic_words_as_bin_string = ''.join([f\"{idx:011b}\" for idx in bither_mnemnic_words_as_idx_list])\n",
    "bither_mnemnic_words_as_int = int(bither_mnemnic_words_as_bin_string, 2)\n",
    "bither_mnemnic_words_as_int >>= 4\n",
    "print(f\"bither_mnemnic_words_as_int: 0x{bither_mnemnic_words_as_int:032x}\")\n",
    "bither_first_btc_address = \"1Ntu2p29uSgkjvHihLrDvnKwWxx7VnZ6Lv\"\n",
    "\n",
    "def get_fingerprint(compressed_public_key):\n",
    "    tmp = hashlib.new('ripemd160')\n",
    "    tmp.update(hashlib.sha256(compressed_public_key).digest())\n",
    "    return int.from_bytes(tmp.digest()[:4], 'big')\n",
    "\n",
    "def get_address(compressed_public_key):\n",
    "    hashed_pub_key = hashlib.sha256(compressed_public_key).digest()\n",
    "\n",
    "    ripemd160_hasher = hashlib.new('ripemd160')\n",
    "    ripemd160_hasher.update(hashed_pub_key)\n",
    "    ripemd160_pub_key = ripemd160_hasher.digest()\n",
    "\n",
    "    ripemd160_pub_key_with_version = int.from_bytes(ripemd160_pub_key, 'big').to_bytes(21, 'big') # 添加版本号\n",
    "\n",
    "    hashed_ripemd160_pub_key_with_version = hashlib.sha256(ripemd160_pub_key_with_version).digest()\n",
    "\n",
    "    hashed_twice_ripemd160_pub_key_with_version = hashlib.sha256(hashed_ripemd160_pub_key_with_version).digest()\n",
    "\n",
    "    checksum = hashed_twice_ripemd160_pub_key_with_version[:4]\n",
    "\n",
    "    address = ripemd160_pub_key_with_version + checksum\n",
    "    return base58.b58encode(address).decode('utf-8')\n",
    "\n",
    "def mnemonic_to_key(mnemonic, path):\n",
    "    seed = my_pbkdf2(mnemonic.encode('utf-8'), \"mnemonic\".encode('utf-8'))\n",
    "    I = my_hmac(b\"Bitcoin seed\", seed)\n",
    "    I_L = I[:32]\n",
    "    I_R = I[32:]\n",
    "    private_key = int.from_bytes(I_L, 'big')\n",
    "    chain_code = int.from_bytes(I_R, 'big')\n",
    "    public_key = priv_key_to_pub_key(private_key)\n",
    "    compressed_public_key = (b'\\x02' if (public_key[1] & 1) == 0 else b'\\x03') + public_key[0].to_bytes(32, 'big')\n",
    "    fingerprint = get_fingerprint(compressed_public_key)\n",
    "\n",
    "    for child_number in path:\n",
    "        if child_number < 2**31:\n",
    "            # normal child\n",
    "            I = my_hmac(chain_code.to_bytes(32, 'big'), compressed_public_key + child_number.to_bytes(4, 'big'))\n",
    "        else:\n",
    "            # hardened child\n",
    "            I = my_hmac(chain_code.to_bytes(32, 'big'), b'\\x00' + private_key.to_bytes(32, 'big') + child_number.to_bytes(4, 'big'))\n",
    "        private_key = (int.from_bytes(I[:32], 'big') + private_key) % n\n",
    "        chain_code = int.from_bytes(I[32:], 'big')\n",
    "        public_key = priv_key_to_pub_key(private_key)\n",
    "        compressed_public_key = (b'\\x02' if (public_key[1] & 1) == 0 else b'\\x03') + public_key[0].to_bytes(32, 'big')\n",
    "        fingerprint = get_fingerprint(compressed_public_key)\n",
    "\n",
    "    address = get_address(compressed_public_key)\n",
    "    return {\"private_key\": private_key, \"address\": address, \"seed\": seed}\n",
    "\n",
    "computed_bither_info = mnemonic_to_key(bither_mnemnic_words, [44+2**31, 0+2**31, 0+2**31, 0, 0])\n",
    "computed_bither_first_btc_address = computed_bither_info[\"address\"]\n",
    "print(f\"computed_bither_first_btc_address: {computed_bither_first_btc_address}\")\n",
    "assert computed_bither_first_btc_address == bither_first_btc_address"
   ]
  },
  {
   "cell_type": "markdown",
   "metadata": {},
   "source": [
    "地址果然是对的。\n",
    "\n",
    "bither钱包除了可以到处助记词之外，实际上还可以导出一个 **HD账户种子二维码** 的东西，这玩意儿是加密过的种子，但是要注意是生成助记词的那个随机数，用这个随机数就可以生成助记词。"
   ]
  },
  {
   "cell_type": "code",
   "execution_count": 12,
   "metadata": {},
   "outputs": [],
   "source": [
    "bither_seed_qrcode_content = \"3D25EF489FCEA9BD9470C8254E65DD3AC4C6AFCD60882F3050065B2CB16268FF/DF48C3E83CB3D59707F87B6544AE6BF6/03FB2B4121FBDB4E07\"\n",
    "bither_encrypted_seed = bytes.fromhex(bither_seed_qrcode_content.split('/')[0])\n",
    "bither_iv = bytes.fromhex(bither_seed_qrcode_content.split('/')[1])\n",
    "bither_salt = bytes.fromhex(bither_seed_qrcode_content.split('/')[2])\n",
    "bither_password = b\"\\x001\\x002\\x003\\x004\\x005\\x00q\\x00w\\x00e\\x00r\\x00t\" # 我们随便设置一个密码，注意这里的编码 WTF\n",
    "\n",
    "from cryptography.hazmat.backends import default_backend\n",
    "from cryptography.hazmat.primitives import padding\n",
    "from cryptography.hazmat.primitives.ciphers import Cipher, algorithms, modes\n",
    "\n",
    "def encrypt_bither_seed(seed, password, iv, salt):\n",
    "    salt = salt[1:]\n",
    "    assert len(seed) == 16\n",
    "    assert len(iv) == 16\n",
    "    assert len(salt) == 8\n",
    "\n",
    "    aes_key = hashlib.scrypt(password, salt=salt, n=16384, r=8, p=1, dklen=32)\n",
    "\n",
    "    cipher = Cipher(algorithms.AES(aes_key), modes.CBC(iv), backend=default_backend())\n",
    "\n",
    "    encryptor = cipher.encryptor()\n",
    "\n",
    "    padder = padding.PKCS7(algorithms.AES.block_size).padder()\n",
    "\n",
    "    padded_data = padder.update(seed) + padder.finalize()\n",
    "    encrypted_data = encryptor.update(padded_data) + encryptor.finalize()\n",
    "\n",
    "    return encrypted_data\n",
    "\n",
    "ret = encrypt_bither_seed(bither_mnemnic_words_as_int.to_bytes(16, \"big\"), bither_password, bither_iv, bither_salt)\n",
    "assert ret == bither_encrypted_seed\n",
    "\n",
    "def decrypt_bither_seed(encrypted_seed, password, iv, salt):\n",
    "    assert salt[0] == 1 + 2 # IS_COMPRESSED_FLAG + IS_FROMXRANDOM_FLAG\n",
    "    salt = salt[1:]\n",
    "    assert len(encrypted_seed) == 32\n",
    "    assert len(iv) == 16\n",
    "    assert len(salt) == 8\n",
    "\n",
    "    aes_key = hashlib.scrypt(password, salt=salt, n=16384, r=8, p=1, dklen=32)\n",
    "\n",
    "    cipher = Cipher(algorithms.AES(aes_key), modes.CBC(iv), backend=default_backend())\n",
    "\n",
    "    decryptor = cipher.decryptor()\n",
    "\n",
    "    decrypted_padded_bytes = decryptor.update(encrypted_seed) + decryptor.finalize()\n",
    "    assert len(decrypted_padded_bytes) == 32\n",
    "\n",
    "    unpadder = padding.PKCS7(algorithms.AES.block_size).unpadder()\n",
    "\n",
    "    decrypted_bytes = unpadder.update(decrypted_padded_bytes) + unpadder.finalize()\n",
    "\n",
    "    return decrypted_bytes\n",
    "\n",
    "ret = decrypt_bither_seed(bither_encrypted_seed, bither_password, bither_iv, bither_salt)\n",
    "#print(f\"decrypted_mnemonic_seeds: 0x{int.from_bytes(ret, 'big'):032x}\")\n",
    "assert ret == bither_mnemnic_words_as_int.to_bytes(16, \"big\")\n"
   ]
  }
 ],
 "metadata": {
  "kernelspec": {
   "display_name": "Python 3",
   "language": "python",
   "name": "python3"
  },
  "language_info": {
   "codemirror_mode": {
    "name": "ipython",
    "version": 3
   },
   "file_extension": ".py",
   "mimetype": "text/x-python",
   "name": "python",
   "nbconvert_exporter": "python",
   "pygments_lexer": "ipython3",
   "version": "3.11.5"
  }
 },
 "nbformat": 4,
 "nbformat_minor": 2
}
